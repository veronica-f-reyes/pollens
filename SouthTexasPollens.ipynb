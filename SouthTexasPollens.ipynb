{
 "cells": [
  {
   "cell_type": "markdown",
   "id": "745ea1fd",
   "metadata": {},
   "source": [
    "# South Texas Allergies: Pollens Analysis"
   ]
  },
  {
   "cell_type": "markdown",
   "id": "3d00088e",
   "metadata": {},
   "source": [
    "### Background\n",
    "\n",
    "South Central Texas is known for its very bad allergy seasons.  In this project, I will analyse the different pollens for this region and predict its seasonality."
   ]
  }
 ],
 "metadata": {
  "kernelspec": {
   "display_name": "Python 3",
   "language": "python",
   "name": "python3"
  },
  "language_info": {
   "codemirror_mode": {
    "name": "ipython",
    "version": 3
   },
   "file_extension": ".py",
   "mimetype": "text/x-python",
   "name": "python",
   "nbconvert_exporter": "python",
   "pygments_lexer": "ipython3",
   "version": "3.8.8"
  }
 },
 "nbformat": 4,
 "nbformat_minor": 5
}
