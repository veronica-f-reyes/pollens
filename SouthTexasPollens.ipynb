{
 "cells": [
  {
   "cell_type": "markdown",
   "id": "c415c4ad",
   "metadata": {},
   "source": [
    "# South Texas Allergies: Pollens Analysis"
   ]
  },
  {
   "cell_type": "markdown",
   "id": "133a7a7b",
   "metadata": {},
   "source": [
    "### Background\n",
    "\n",
    "South Central Texas is known for its very bad allergy seasons.  In this project, I will analyse the different pollens for this region and predict its seasonality.\n",
    "\n",
    "##### Data Sources:\n",
    "American Academy of Allergy, Asthma & Immunology\n",
    "https://allergist.aaaai.org/\n",
    "\n",
    "National Centers for Environmental Information, NESDIS, NOAA, U.S. Department of Commerce\n",
    "\n",
    "https://www.ncei.noaa.gov/access/paleo-search/study/search.json?dataPublisher=NOAA&dataTypeId=16&headersOnly=true\n",
    "\n",
    "https://www.ncei.noaa.gov/access/paleo-search/study/search.json?dataPublisher=NOAA&dataTypeId=16&headersOnly=true\n",
    "\n",
    "#### Purpose:\n",
    "\n",
    "#### Key Findings & Takeaways:\n",
    "\n",
    "#### Recommendations:\n",
    "\n",
    "#### Next Steps:"
   ]
  },
  {
   "cell_type": "markdown",
   "id": "27800712",
   "metadata": {},
   "source": [
    "### Acquire"
   ]
  },
  {
   "cell_type": "markdown",
   "id": "93824949",
   "metadata": {},
   "source": [
    "### Prepare"
   ]
  },
  {
   "cell_type": "markdown",
   "id": "fd4b9597",
   "metadata": {},
   "source": [
    "### Explore"
   ]
  },
  {
   "cell_type": "markdown",
   "id": "1c1438b6",
   "metadata": {},
   "source": [
    "### Model"
   ]
  },
  {
   "cell_type": "markdown",
   "id": "078b6f0a",
   "metadata": {},
   "source": []
  }
 ],
 "metadata": {
  "kernelspec": {
   "display_name": "Python 3",
   "language": "python",
   "name": "python3"
  },
  "language_info": {
   "codemirror_mode": {
    "name": "ipython",
    "version": 3
   },
   "file_extension": ".py",
   "mimetype": "text/x-python",
   "name": "python",
   "nbconvert_exporter": "python",
   "pygments_lexer": "ipython3",
   "version": "3.8.8"
  }
 },
 "nbformat": 4,
 "nbformat_minor": 5
}
